{
 "cells": [
  {
   "cell_type": "markdown",
   "metadata": {},
   "source": [
    "# Dowdle's Heart Disease Prediction\n",
    "**Author:** Brittany Dowdle  \n",
    "**Date:** March 31, 2025  \n",
    "**Objective:** This project will demonstrate my ability to apply classification modeling techniques to a real-world dataset. I will:  \n",
    "- Load and explore a dataset.\n",
    "- Analyze feature distributions and consider feature selection.\n",
    "- Train and evaluate a classification model.\n",
    "- Compare different classification approaches.\n",
    "- Document your work in a structured Jupyter Notebook.\n",
    "- Conduct a peer review of a classmate’s project. \n",
    "\n",
    "## Introduction\n",
    "This project uses the UCI Banknote Authentication Dataset to detect fake banknotes based on features such as Variance, Skewness, Curtosis. We will train multiple models, evaluate performance using key metrics, and create visualizations to interpret the results. We use three common classification models in this lab: Decision Tree Classifier (DT), Support Vector Machine (SVM), and Neural Network (NN)."
   ]
  }
 ],
 "metadata": {
  "language_info": {
   "name": "python"
  }
 },
 "nbformat": 4,
 "nbformat_minor": 2
}
