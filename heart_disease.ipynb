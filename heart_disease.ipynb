{
 "cells": [
  {
   "cell_type": "markdown",
   "metadata": {},
   "source": [
    "# Dowdle's Heart Disease Prediction\n",
    "**Author:** Brittany Dowdle  \n",
    "**Date:** March 31, 2025  \n",
    "**Objective:** This project will demonstrate my ability to apply classification modeling techniques to a real-world dataset. I will:  \n",
    "- Load and explore a dataset.\n",
    "- Analyze feature distributions and consider feature selection.\n",
    "- Train and evaluate a classification model.\n",
    "- Compare different classification approaches.\n",
    "- Document your work in a structured Jupyter Notebook.\n",
    "- Conduct a peer review of a classmate’s project. "
   ]
  }
 ],
 "metadata": {
  "language_info": {
   "name": "python"
  }
 },
 "nbformat": 4,
 "nbformat_minor": 2
}
