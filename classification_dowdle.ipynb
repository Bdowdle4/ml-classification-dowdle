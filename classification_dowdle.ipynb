{
 "cells": [
  {
   "cell_type": "markdown",
   "metadata": {},
   "source": [
    "# Dowdle's Heart Disease Prediction\n",
    "**Author:** Brittany Dowdle  \n",
    "**Date:** March 31, 2025  \n",
    "**Objective:** This project will demonstrate my ability to apply classification modeling techniques to a real-world dataset. I will:  \n",
    "- Load and explore a dataset.\n",
    "- Analyze feature distributions and consider feature selection.\n",
    "- Train and evaluate a classification model.\n",
    "- Compare different classification approaches.\n",
    "- Document your work in a structured Jupyter Notebook.\n",
    "- Conduct a peer review of a classmate’s project. \n",
    "\n",
    "## Introduction\n",
    "This project uses the UCI Banknote Authentication Dataset to detect fake banknotes based on features such as Variance, Skewness, Curtosis. The goal is to predict which notes are genuine/fake. I will create a Random Forest model, split/train the data, evaluate performance using key metrics, and create visualizations to interpret the results.\n",
    "\n",
    "****\n",
    "\n",
    "## Imports\n",
    "In the code cell below are the necessary Python libraries for this notebook. *All imports should be at the top of the notebook.*"
   ]
  },
  {
   "cell_type": "code",
   "execution_count": 1,
   "metadata": {},
   "outputs": [],
   "source": [
    "# Import pandas for data manipulation and analysis (we might want to do more with it)\n",
    "import pandas as pd\n",
    "from pandas.plotting import scatter_matrix\n",
    "\n",
    "# Import pandas for data manipulation and analysis  (we might want to do more with it)\n",
    "import numpy as np\n",
    "\n",
    "# Import matplotlib for creating static visualizations\n",
    "import matplotlib.pyplot as plt\n",
    "import matplotlib.cm as cm\n",
    "\n",
    "# Import seaborn for statistical data visualization (built on matplotlib)\n",
    "import seaborn as sns\n",
    "\n",
    "# Import for splitting data into training and test sets\n",
    "from sklearn.model_selection import train_test_split\n",
    "from sklearn.model_selection import StratifiedShuffleSplit\n",
    "\n",
    "# Import classification models\n",
    "from sklearn.ensemble import RandomForestClassifier\n",
    "from sklearn.tree import DecisionTreeClassifier\n",
    "from sklearn.tree import plot_tree\n",
    "\n",
    "# Import performance metrics for model evaluation\n",
    "from sklearn.metrics import accuracy_score, precision_score, recall_score, f1_score, confusion_matrix, classification_report"
   ]
  }
 ],
 "metadata": {
  "kernelspec": {
   "display_name": ".venv",
   "language": "python",
   "name": "python3"
  },
  "language_info": {
   "codemirror_mode": {
    "name": "ipython",
    "version": 3
   },
   "file_extension": ".py",
   "mimetype": "text/x-python",
   "name": "python",
   "nbconvert_exporter": "python",
   "pygments_lexer": "ipython3",
   "version": "3.12.9"
  }
 },
 "nbformat": 4,
 "nbformat_minor": 2
}
